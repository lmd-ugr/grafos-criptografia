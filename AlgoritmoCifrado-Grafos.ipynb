{
 "cells": [
  {
   "cell_type": "markdown",
   "metadata": {},
   "source": [
    "# TFG Teoría de Grafos y Criptografía\n",
    "\n",
    "Autora: Carlota Valdivia Manzano\n"
   ]
  },
  {
   "cell_type": "markdown",
   "metadata": {},
   "source": [
    "# Algoritmo de Cifrado basado en Teoría de Grafos"
   ]
  },
  {
   "cell_type": "markdown",
   "metadata": {},
   "source": [
    "El algoritmo propuesto por [*Wael Etaiwi*](https://www.researchgate.net/publication/269803082_Encryption_Algorithm_Using_Graph_Theory?enrichId=rgreq-3bcb3d1a96a5b95b5a828a7dcc7e36f6-XXX&enrichSource=Y292ZXJQYWdlOzI2OTgwMzA4MjtBUzozMzgwMzU1NjU3MTEzNjJAMTQ1NzYwNTM2NzM0NA%3D%3D&el=1_x_2&_esc=publicationCoverPdf)  es un algoritmo de cifrado simétrico que hace uso de los conceptos de grafo completo, ciclo y árbol generador minimal para poder generar cifrados usando una clave compartida."
   ]
  },
  {
   "cell_type": "markdown",
   "metadata": {},
   "source": [
    "En este cuaderno, presentaremos una implementación del algoritmo y varios ejemplos de cifrado y descifrado haciendo uso del mismo. Posteriormente se probará el algoritmo mediante una serie de ejecuciones para evaluar sus tiempos medios."
   ]
  },
  {
   "cell_type": "markdown",
   "metadata": {},
   "source": [
    "## Implementación"
   ]
  },
  {
   "cell_type": "markdown",
   "metadata": {},
   "source": [
    "Para la implementación de los algoritmos ha sido conveniente crear una clase Grafo, una tabla de codificación y algunos métodos auxiliares."
   ]
  },
  {
   "cell_type": "markdown",
   "metadata": {},
   "source": [
    "### Clase Graph"
   ]
  },
  {
   "cell_type": "markdown",
   "metadata": {},
   "source": [
    "La clase Graph está compuesta por dos atributos:\n",
    "* *V*: conjunto de vértices\n",
    "* *Matrix*: matriz de adyacencia del grafo,\n",
    "\n",
    "y por un constructor y tres métodos:\n",
    "* Constructor con parámetros\n",
    "* *primMST*: Método para calcular un árbol generador minimal (MST) usando el algoritmo de Prim\n",
    "* *minWeight*: Método para encontrar el vértice con menor distancia a cualquier otro vértice no procesado en el MST\n",
    "* *printMST*: Método para imprimir el MST"
   ]
  },
  {
   "cell_type": "code",
   "execution_count": 1,
   "metadata": {},
   "outputs": [],
   "source": [
    "import sys         # Lo importamos para usar el valor INT_MAX\n",
    "import math        # Lo importamos para utilizar funciones matemáticas\n",
    "import numpy as np # Lo importamos para realizar operaciones sobre matrices"
   ]
  },
  {
   "cell_type": "code",
   "execution_count": 2,
   "metadata": {},
   "outputs": [],
   "source": [
    "class Graph():\n",
    "\n",
    "    def __init__(self, V):\n",
    "        \"\"\"\n",
    "            'V' es el número de vértices que posee el grafo \n",
    "            'self.matrix' contendrá la matriz de adyacencia del grafo\n",
    "        \"\"\"\n",
    "        self.V = V\n",
    "        self.matrix = [[0 for column in range(V)] for row in range(V)]\n",
    "\n",
    "    # Método para encontrar el vértice con menor distancia al\n",
    "    # cualquier otro vértice que no esté ya procesado en el árbol\n",
    "    def minWeight(self, weight, mstSet):\n",
    "        \"\"\"\n",
    "            'weight' es el peso a comprobar\n",
    "            'mstSet' es el conjunto de vértices que están procesados \n",
    "                     en el árbol\n",
    "        \"\"\" \n",
    " \n",
    "        # Inicializamos el valor mínimo\n",
    "        min = sys.maxsize\n",
    " \n",
    "        # Recorremos el conjunto de vértices\n",
    "        for v in range(self.V):\n",
    "            # Si el peso es menor que el mínimo y no está en el árbol\n",
    "            # actualizamos los valores del mínimo\n",
    "            if weight[v] < min and mstSet[v] == False:\n",
    "                min = weight[v]\n",
    "                min_index = v\n",
    "                        \n",
    "        return min_index\n",
    " \n",
    "    # Método para construir un Árbol Generador Minimal (MST) con el \n",
    "    # algoritmo de Prim con colas de prioridad\n",
    "    def primMST(self):\n",
    " \n",
    "        # Lista de pesos inicializadas con valor infinito\n",
    "        weight = [sys.maxsize] * self.V\n",
    "        # Lista para almacenar el MST\n",
    "        parent = [None] * self.V  # Array to store constructed MST\n",
    "        # Asignamos los valores 0 y -1 al vértice raíz\n",
    "        weight[0] = 0\n",
    "        parent[0] = -1  \n",
    "        # Lista para seleccionar los vértices procesados\n",
    "        mstSet = [False] * self.V\n",
    " \n",
    "        # Realizamos tantas iteraciones como vértices\n",
    "        for i in range(self.V):\n",
    "             \n",
    "            # Elegimos el vértice con menor distancia del conjunto de\n",
    "            # vértices sin procesar\n",
    "            v = self.minWeight(weight, mstSet)\n",
    " \n",
    "            # Seleccionamos como procesado el vértice\n",
    "            mstSet[v] = True\n",
    "\n",
    "            # Actualizamos las etiquetas de los vértices adyacentes\n",
    "            for u in range(self.V):\n",
    " \n",
    "                # Si el vértice no ha sido procesado, y su distancia calculada\n",
    "                # es menor que la guardada en la variable peso actualizamos\n",
    "                if  mstSet[u] == False and self.matrix[v][u] != 0 and self.matrix[v][u] < weight[u]:\n",
    "                    weight[u] = self.matrix[v][u]\n",
    "                    parent[u] = v\n",
    "                    \n",
    "        # Imprimimos el árbol generador minimal\n",
    "        #self.printMST(parent)\n",
    "        \n",
    "        # Construimos la matriz de adyacencia del árbol generador minimal\n",
    "        T = [[0 for column in range(self.V)] for row in range(self.V)]\n",
    "        \n",
    "        # Realizamos tantas iteraciones como vértices\n",
    "        for i in range(self.V):\n",
    "            T[parent[i]][i] = self.matrix[i][parent[i]]\n",
    "            T[i][parent[i]] = self.matrix[i][parent[i]]\n",
    "            \n",
    "        return T\n",
    "            \n",
    "    # Método para imprimir el MST\n",
    "    def printMST(self, parent):\n",
    "        print(\"Arista \\tPeso\")\n",
    "        for i in range(1, self.V):\n",
    "            print(parent[i], \"-\", i, \"\\t\", self.matrix[i][parent[i]])\n",
    " "
   ]
  },
  {
   "cell_type": "markdown",
   "metadata": {},
   "source": [
    "### Tabla de codificación"
   ]
  },
  {
   "cell_type": "markdown",
   "metadata": {},
   "source": [
    "La **tabla de codificación** es un diccionario donde cada carácter, en este caso letra del abecedario, está asociado a un código. Dicho código es necesario para poder calcular el peso de las aristas."
   ]
  },
  {
   "cell_type": "code",
   "execution_count": 3,
   "metadata": {},
   "outputs": [],
   "source": [
    "tabla_codificacion = {\n",
    "        'A' : '1', \n",
    "        'B' : '2', \n",
    "        'C' : '3', \n",
    "        'D' : '4', \n",
    "        'E' : '5', \n",
    "        'F' : '6', \n",
    "        'G' : '7', \n",
    "        'H' : '8', \n",
    "        'I' : '9', \n",
    "        'J' : '10', \n",
    "        'K' : '11', \n",
    "        'L' : '12', \n",
    "        'M' : '13', \n",
    "        'N' : '14', \n",
    "        'O' : '15', \n",
    "        'P' : '16', \n",
    "        'Q' : '17', \n",
    "        'R' : '18', \n",
    "        'S' : '19', \n",
    "        'T' : '20', \n",
    "        'U' : '21', \n",
    "        'V' : '22', \n",
    "        'W' : '23', \n",
    "        'X' : '24', \n",
    "        'Y' : '25', \n",
    "        'Z' : '26'\n",
    "    }"
   ]
  },
  {
   "cell_type": "markdown",
   "metadata": {},
   "source": [
    "### Función para obtener el peso de una arista según la codificación"
   ]
  },
  {
   "cell_type": "markdown",
   "metadata": {},
   "source": [
    "Se ha implementado también una función para poder calcular el peso de una arista a partir de la tabla de codificación anterior."
   ]
  },
  {
   "cell_type": "code",
   "execution_count": 4,
   "metadata": {},
   "outputs": [],
   "source": [
    "# Función para obtener el peso de una arista en función\n",
    "# de los dos caracteres que la componen\n",
    "def codificarLetras(l1,l2):\n",
    "    \"\"\"\n",
    "        'l1' primera letra a codificar\n",
    "        'l2' segunda letra a codificar\n",
    "    \"\"\" \n",
    "    \n",
    "    return int(tabla_codificacion[l1])-int(tabla_codificacion[l2])"
   ]
  },
  {
   "cell_type": "markdown",
   "metadata": {},
   "source": [
    "### Función para obtener la letra correspondiente a un valor"
   ]
  },
  {
   "cell_type": "markdown",
   "metadata": {},
   "source": [
    "Función para obtener la letra que corresponde a un valor numérico en la tabla de codificación."
   ]
  },
  {
   "cell_type": "code",
   "execution_count": 5,
   "metadata": {},
   "outputs": [],
   "source": [
    "# Función para obtener la letra correspondiente a un valor\n",
    "# de la tabla de codificación\n",
    "def obtenerLetra(val):\n",
    "    \"\"\"\n",
    "        'val' valor de la letra correspondiente en la tabla de\n",
    "              codificación\n",
    "    \"\"\" \n",
    "    for letra, valor in tabla_codificacion.items():\n",
    "         if float(val) == float(valor):\n",
    "            return letra\n",
    "        \n",
    "    return \"No existe esa letra\""
   ]
  },
  {
   "cell_type": "markdown",
   "metadata": {},
   "source": [
    "### Función para decodificar una letra según el peso de una arista"
   ]
  },
  {
   "cell_type": "markdown",
   "metadata": {},
   "source": [
    "Se ha implementado también una función para obtener,dado un peso y un extremo de una arista, el carácter correspondiente al otro extremo de la arista."
   ]
  },
  {
   "cell_type": "code",
   "execution_count": 6,
   "metadata": {},
   "outputs": [],
   "source": [
    "# Función para obtener un carácter según el peso y \n",
    "# un extremo de una arista\n",
    "def decodificarLetra(peso,l):\n",
    "    \"\"\"\n",
    "        'peso' peso de la arista\n",
    "        'l' letra del otro extremo de la arista\n",
    "    \"\"\"     \n",
    "    return obtenerLetra(str(peso+int(tabla_codificacion[l])))"
   ]
  },
  {
   "cell_type": "markdown",
   "metadata": {},
   "source": [
    "### Función para obtener un Grafo formado por los caracteres"
   ]
  },
  {
   "cell_type": "markdown",
   "metadata": {},
   "source": [
    "Esta función obtiene un grafo con su respectiva representación matricial a partir del mensaje que quieres cifrar y de un carácter especial para denotar por donde empieza el mensaje."
   ]
  },
  {
   "cell_type": "code",
   "execution_count": 7,
   "metadata": {},
   "outputs": [],
   "source": [
    "# Función que dado un mensaje un carácter especial nos\n",
    "# devuelve un grafo que representa dicho mensaje\n",
    "def grafoMensaje(mensaje, carac):\n",
    "    \"\"\"\n",
    "        'mensaje' texto plano al que convertir en grafo\n",
    "        'carac' carácter especial para indicar el carácter \n",
    "                inicial del mensaje\n",
    "    \"\"\" \n",
    "    \n",
    "    # Almacenamos el número de vértices de nuestro grafo\n",
    "    n = len(mensaje)+1  # Sumamos uno por el caracter especial que le añadimos\n",
    "    \n",
    "    # Creamos un grafo de tamaño n\n",
    "    grafo = Graph(n)\n",
    "    \n",
    "    # Creamos una lista con el peso de las aristas\n",
    "    if grafo.V < 3:\n",
    "        pesos = [0] * (grafo.V-1)\n",
    "    else:\n",
    "        pesos = [0] * grafo.V\n",
    "    \n",
    "    # Calculamos el peso de las aristas a partir de la codificación    \n",
    "    for u in range(len(pesos)):\n",
    "        if u == 0:\n",
    "            pesos[u] = codificarLetras(mensaje[u],carac)\n",
    "        else:\n",
    "            pesos[u] = codificarLetras(mensaje[u%(n-1)],mensaje[u-1])\n",
    "        \n",
    "        \n",
    "    # Agregamos un contador para los pesos de las aristas a añadir\n",
    "    cont = 0\n",
    "    # Seleccionamos el peso máximo\n",
    "    max_peso = int(tabla_codificacion['Z'])\n",
    "    # Creamos una lista con los pesos a añadir\n",
    "    pesos_c = [0] * int((n-1)*(n-3)/2)    \n",
    "    if len(pesos_c) != 0:\n",
    "        for u in range(len(pesos_c)):\n",
    "            pesos_c[u] = max_peso + 1\n",
    "            max_peso = max_peso + 1\n",
    "    \n",
    "                    \n",
    "    # Añadimos los pesos a la matriz de adyacencia\n",
    "    for u in range(grafo.V):\n",
    "        # Caso del vértice añadido para señalar el comienzo\n",
    "        if u == 0:\n",
    "            grafo.matrix[u][u+1] = pesos[u]\n",
    "            grafo.matrix[u+1][u] = pesos[u]\n",
    "        else:\n",
    "            # Como la matriz es simétrica recorremos solamente\n",
    "            # la diagonal superior\n",
    "            for v in range(u+1,grafo.V):\n",
    "                # Caso de vértice adyacente siguiente\n",
    "                if (u+1)%(n-1) == v%(n-1):\n",
    "                    grafo.matrix[u][v] = pesos[u]\n",
    "                    grafo.matrix[v][u] = pesos[u]\n",
    "                # Caso de vértice adyacente anterior\n",
    "                elif (v+1)%(n-1) == u%(n-1):\n",
    "                    grafo.matrix[u][v] = pesos[v]\n",
    "                    grafo.matrix[v][u] = pesos[v]\n",
    "                # Caso de aristas añadidas para hacer \n",
    "                # el grafo completo\n",
    "                else:\n",
    "                    grafo.matrix[u][v] = pesos_c[cont]\n",
    "                    grafo.matrix[v][u] = pesos_c[cont]\n",
    "                    cont = cont + 1\n",
    "\n",
    "    return grafo\n",
    "    "
   ]
  },
  {
   "cell_type": "markdown",
   "metadata": {},
   "source": [
    "### Función para sustituir la diagonal por el orden de los caracteres"
   ]
  },
  {
   "cell_type": "code",
   "execution_count": 8,
   "metadata": {},
   "outputs": [],
   "source": [
    "# Función que dada una matriz sustituye su diagonal principal por\n",
    "# el orden de los caracteres en el grafo\n",
    "def sustituirDiag(T):\n",
    "    \"\"\"\n",
    "        'T' matriz a la que sustituir la diagonal principal\n",
    "    \"\"\" \n",
    "    for u in range(len(T)):\n",
    "        T[u][u] = u"
   ]
  },
  {
   "cell_type": "markdown",
   "metadata": {},
   "source": [
    "### Función para convertir las matrices cifradas en formato lineal "
   ]
  },
  {
   "cell_type": "markdown",
   "metadata": {},
   "source": [
    "Función que dada una matriz, obtendremos una lista con sus entradas en formato lineal ordenadas por filas."
   ]
  },
  {
   "cell_type": "code",
   "execution_count": 9,
   "metadata": {},
   "outputs": [],
   "source": [
    "# Función que dada una matriz obtiene una única lista con\n",
    "# todos sus entradas ordenadas por filas\n",
    "def matrizLineal(M):\n",
    "    \"\"\"\n",
    "        'M' matriz de la que obtener una lista con sus entradas\n",
    "    \"\"\" \n",
    "    L = []\n",
    "    \n",
    "    # Recorremos las entradas de la matriz por filas\n",
    "    # y los añadimos a la lista\n",
    "    for fila in M:\n",
    "        for i in fila:\n",
    "            L.append(i)\n",
    "    return L"
   ]
  },
  {
   "cell_type": "markdown",
   "metadata": {},
   "source": [
    "### Función para convertir formato lineal en matrices"
   ]
  },
  {
   "cell_type": "markdown",
   "metadata": {},
   "source": [
    "Función que dada una lista con entradas, obtenemos la matriz cuadrada cuyos elementos corresponden con las entradas de la lista ordenados por filas."
   ]
  },
  {
   "cell_type": "code",
   "execution_count": 10,
   "metadata": {},
   "outputs": [],
   "source": [
    "# Función que dada una lista de componentes de tamaño\n",
    "# cuadrado obtiene una matriz con sus entradas \n",
    "# ordenadas por filas\n",
    "def linealMatriz(l):\n",
    "    \"\"\"\n",
    "        'l' lista de la que obtener una matriz con sus entradas\n",
    "    \"\"\" \n",
    "    n = int(math.sqrt(len(l)))\n",
    "    M = [[0 for column in range(n)] for row in range(n)]\n",
    "    \n",
    "    # Recorremos los elementos de la lista\n",
    "    for i in range(n):\n",
    "        for j in range(n):\n",
    "            M[i][j] = l[i*n+j]\n",
    "    return M"
   ]
  },
  {
   "cell_type": "markdown",
   "metadata": {},
   "source": [
    "### Función para descrifrar un mensaje de un MST"
   ]
  },
  {
   "cell_type": "markdown",
   "metadata": {},
   "source": [
    "Función que dada la matriz de adyacencia de un árbol generador minimal y un  carácter inicial obtiene el mensaje descifrado haciendo uso de una tabla de codificación"
   ]
  },
  {
   "cell_type": "code",
   "execution_count": 11,
   "metadata": {},
   "outputs": [],
   "source": [
    "# Función que dado un árbol generador minimal y un \n",
    "# carácter inicial descifra un mensaje usando\n",
    "# una tabla de codificación\n",
    "def descifrarMatriz(T,carac):\n",
    "    \"\"\"\n",
    "        'T' árbol generador minimal de \n",
    "        'carac' carácter especial para indicar el carácter \n",
    "                inicial del mensaje\n",
    "    \"\"\" \n",
    "    # Número de letras de la palabra a descifrar\n",
    "    V = len(T)-1\n",
    "    # Lista para almacenar la palabra a descifrar\n",
    "    mensaje = [None] * V\n",
    "    # Carácter inicial con el que empezar a descifrar\n",
    "    letra = carac\n",
    "    # Número de letras descifradas\n",
    "    tam = 1\n",
    "    # Contador de iteraciones\n",
    "    i = 1\n",
    "    \n",
    "    # Añadimos la primera letra\n",
    "    mensaje[0]=(decodificarLetra(T[0][1],letra))\n",
    "    \n",
    "    # Recorremos las entradas de la matriz por filas\n",
    "    # y los añadimos a la lista\n",
    "    while tam < V:\n",
    "        # Comenzamos iterando a partir de i\n",
    "        cont = i+1\n",
    "        \n",
    "        # Mientras que queden letras por descifrar y no hayamos recorrido la fila entera\n",
    "        while tam < V and cont <= V:\n",
    "            \n",
    "            # Comprobamos que el peso no sea 0, y que la letra asociada al nº de fila o columna sea una\n",
    "            # vacía y la otra no\n",
    "            if T[i][cont] != 0 and mensaje[cont-1] == None and mensaje[i-1] != None:\n",
    "                # Si el extremo es el siguiente\n",
    "                if i+1 == cont:\n",
    "                    mensaje[cont-1]=(decodificarLetra(T[i][cont],mensaje[i-1]))\n",
    "                # Si es el anterior\n",
    "                elif (cont+1)%V == i:\n",
    "                    mensaje[cont-1]=(decodificarLetra(-(T[i][cont]),mensaje[i-1]))\n",
    "                # Aumentamos el nº de letras descifradas\n",
    "                tam = tam + 1\n",
    "                \n",
    "            # Comprobamos que el peso no sea 0, y que la letra asociada al nº de fila o columna sea una\n",
    "            # vacía y la otra no\n",
    "            elif T[i][cont] != 0 and mensaje[cont-1] != None and mensaje[i-1] == None:\n",
    "                # Si el extremo es el siguiente\n",
    "                if i+1 == cont:\n",
    "                    mensaje[i-1]=(decodificarLetra(-(T[i][cont]),mensaje[cont-1]))\n",
    "                # Si es el anterior\n",
    "                elif (cont+1)%V == i:\n",
    "                    mensaje[i-1]=(decodificarLetra(T[i][cont],mensaje[cont-1]))\n",
    "                # Aumentamos el nº de letras descifradas\n",
    "                tam = tam + 1\n",
    "                                \n",
    "            # Aumentamos el contador    \n",
    "            cont = cont + 1\n",
    "            \n",
    "        # Aumentamos el contador\n",
    "        if i == V:\n",
    "            i = 1\n",
    "        else:\n",
    "            i = i + 1\n",
    "\n",
    "    return mensaje"
   ]
  },
  {
   "cell_type": "markdown",
   "metadata": {},
   "source": [
    "### Algoritmo de cifrado"
   ]
  },
  {
   "cell_type": "code",
   "execution_count": 12,
   "metadata": {},
   "outputs": [],
   "source": [
    "# Algoritmo de cifrado dado un mensaje, un carácter inicial y\n",
    "# una clave compartida\n",
    "def cifrar(mensaje, carac, K):\n",
    "    \"\"\"\n",
    "        'mensaje' texto plano al que convertir en grafo \n",
    "        'carac' carácter especial para indicar el carácter inicial del mensaje\n",
    "        'K' matriz de clave compartida  \n",
    "    \"\"\" \n",
    "    # 1. Construimos un grafo g cuyos vértices son los caracteres del mensaje \n",
    "    # y el carácter especial\n",
    "    g = grafoMensaje(mensaje, carac)\n",
    "    M = g.matrix\n",
    "    \n",
    "    # 2. Comprobamos si la matriz M es invertible\n",
    "    if np.linalg.det(M) != 0:\n",
    "\n",
    "        # 3. Encontramos la matriz de adyacencia del árbol generador minimal  \n",
    "        # (MST) del grafo g usando el Algoritmo de Prim\n",
    "        T = g.primMST()\n",
    "\n",
    "        # 4. Sustituimos los ceros de la diagonal principal por el orden de los \n",
    "        # caracteres\n",
    "        sustituirDiag(T)\n",
    "\n",
    "        # 5. Multiplicamos la matriz de adyacencia del grafo, M, y la del árbol \n",
    "        # generador minimal, T, para obtener la matriz P\n",
    "        P = np.dot(M,T).tolist()\n",
    "\n",
    "        # 6. Usamos la clave K para cifrar P\n",
    "        C = np.dot(P,K).tolist()\n",
    "\n",
    "        # 7. Pasamos las matrices C y M a formato lineal \n",
    "        lista1 = matrizLineal(C)\n",
    "        lista2 = matrizLineal(M)\n",
    "        mensaje_cifrado = lista1 + lista2\n",
    "\n",
    "        return mensaje_cifrado\n",
    "\n"
   ]
  },
  {
   "cell_type": "markdown",
   "metadata": {},
   "source": [
    "### Algoritmo de descifrado"
   ]
  },
  {
   "cell_type": "code",
   "execution_count": 13,
   "metadata": {},
   "outputs": [],
   "source": [
    "# Algoritmo de descifrado dado un mensaje, un carácter inicial \n",
    "# y una clave compartida\n",
    "def descifrar(mensaje_cifrado, carac, K):\n",
    "    \"\"\"\n",
    "        'mensaje' texto plano al que convertir en grafo \n",
    "        'carac' carácter especial para indicar el carácter inicial del mensaje\n",
    "        'K' matriz de clave compartida  \n",
    "    \"\"\" \n",
    "    # 1. Dividimos el mensaje cifrado en dos listas y lo transformarmos en dos \n",
    "    # matrices, C_desc y M_desc respectivamene. \n",
    "    lista1_desc = mensaje_cifrado[0:int(len(mensaje_cifrado)/2)]\n",
    "    lista2_desc = mensaje_cifrado[int(len(mensaje_cifrado)/2):len(mensaje_cifrado)]\n",
    "    \n",
    "    C_desc = linealMatriz(lista1_desc)\n",
    "    M_desc = linealMatriz(lista2_desc)\n",
    "    \n",
    "    # 2. Calculamos la inversa de la clave K\n",
    "    K_i = np.linalg.inv(K).tolist()\n",
    "\n",
    "    # 3. Obtenemos la matriz P a partir de la matriz C descifrada y la \n",
    "    # inversa de la clave K  \n",
    "    P_desc = np.dot(C_desc,K_i).tolist()\n",
    "\n",
    "    # 4. Calculamos la inversa de la matriz M\n",
    "    M_i = np.linalg.inv(M_desc).tolist()\n",
    "\n",
    "    # 5. Calculamos la matriz T a partir de la inversa de M\n",
    "    T_desc = np.round(np.dot(M_i,P_desc)).tolist()\n",
    "\n",
    "    # 6. Representando el árbol generador minimal T, y usando \n",
    "    # la tabla de codificación obtenemos el mensaje cifrado.\n",
    "    mensaje_desc = descifrarMatriz(T_desc,carac)\n",
    "\n",
    "    return mensaje_desc\n"
   ]
  },
  {
   "cell_type": "markdown",
   "metadata": {},
   "source": [
    "## Ejemplo práctico"
   ]
  },
  {
   "cell_type": "markdown",
   "metadata": {},
   "source": [
    "Supongamos el escenario en el que Alicia y Bruno quieren realizar un intercambio\n",
    "de información de manera confidencial. En concreto, Alicia quiere enviarle un mensaje a\n",
    "Bruno de forma que nadie más pueda leerlo. Para ello, Alicia y Bruno cuentan con una clave\n",
    "compartida que solo ellos conocen."
   ]
  },
  {
   "cell_type": "markdown",
   "metadata": {},
   "source": [
    "Denotemos dicha clave por K, y definámosla de la forma:"
   ]
  },
  {
   "cell_type": "code",
   "execution_count": 14,
   "metadata": {
    "scrolled": false
   },
   "outputs": [
    {
     "data": {
      "text/plain": [
       "[[1, 1, 1, 1, 1, 1],\n",
       " [0, 1, 0, 0, 0, 1],\n",
       " [0, 0, 1, 0, 0, 1],\n",
       " [0, 0, 0, 1, 0, 1],\n",
       " [0, 0, 0, 0, 1, 1],\n",
       " [0, 0, 0, 0, 0, 1]]"
      ]
     },
     "execution_count": 14,
     "metadata": {},
     "output_type": "execute_result"
    }
   ],
   "source": [
    "K = [[1, 1, 1, 1, 1, 1],\n",
    "     [0, 1, 0, 0, 0, 1],\n",
    "     [0, 0, 1, 0, 0, 1],\n",
    "     [0, 0, 0, 1, 0, 1],\n",
    "     [0, 0, 0, 0, 1, 1],\n",
    "     [0, 0, 0, 0, 0, 1]]\n",
    "K"
   ]
  },
  {
   "cell_type": "markdown",
   "metadata": {},
   "source": [
    "El mensaje que Alicia quiere enviarle a Bruno es el siguiente: *CLAVE*"
   ]
  },
  {
   "cell_type": "code",
   "execution_count": 15,
   "metadata": {},
   "outputs": [],
   "source": [
    "mensaje_secreto = 'CLAVE'"
   ]
  },
  {
   "cell_type": "markdown",
   "metadata": {},
   "source": [
    "En primer lugar, es necesario seleccionar un carácter especial antes del primer carácter para señalar por donde comenzar. Tomemos el carácter $S$."
   ]
  },
  {
   "cell_type": "code",
   "execution_count": 16,
   "metadata": {},
   "outputs": [],
   "source": [
    "carac = 'S'"
   ]
  },
  {
   "cell_type": "markdown",
   "metadata": {},
   "source": [
    "Después, lo que debe realizar Alicia es convertir el mensaje a cifrar en vértices de un grafo. El conjunto de vértices va a estar formado por las cinco letras del mensaje *CLAVE* y, por cada par de caracteres secuenciales en el texto a cifrar, se añadirá una arista entre ambos vértices. Además, se unirá el primer y último vértices para formar un ciclo. "
   ]
  },
  {
   "cell_type": "markdown",
   "metadata": {},
   "source": [
    "Para poder asignarle un peso a cada arista, Alicia deberá de hacer uso de una tabla de codificación. En este ejemplo se usará la del diccionario *codificacion* definido previamente. El peso de cada arista corresponde con la distancia entre los caracteres que representan los vértices en la tabla de codificación. Por ejemplo, el peso de la arista que une los vértices $C$ y $L$ se corresponde con la distancia entre los valores $C$ y $L$ en la tabla de codificación."
   ]
  },
  {
   "cell_type": "code",
   "execution_count": 17,
   "metadata": {},
   "outputs": [
    {
     "data": {
      "text/plain": [
       "9"
      ]
     },
     "execution_count": 17,
     "metadata": {},
     "output_type": "execute_result"
    }
   ],
   "source": [
    "codificarLetras('L','C')"
   ]
  },
  {
   "cell_type": "markdown",
   "metadata": {},
   "source": [
    "A continuación, Alicia debe continuar añadiéndole aristas hasta conseguir un grafo completo, a las que asignará su correspondiente peso. En este caso, cada una de las aristas irá tomando un valor secuencial a partir del máximo peso de la tabla de codificación. Obteniendo así un grafo completo de orden 5."
   ]
  },
  {
   "cell_type": "markdown",
   "metadata": {},
   "source": [
    "Todos estos pasos para construir el grafo formado por caracteres, los realizamos aplicando el algoritmo **grafoMesaje** a partir del mensaje secreto y el carácter de inicio. Obteniendo así dicho grafo con su respectiva matriz de adyacencia $M$, definida de la forma:\n"
   ]
  },
  {
   "cell_type": "code",
   "execution_count": 18,
   "metadata": {},
   "outputs": [
    {
     "data": {
      "text/plain": [
       "[[0, -16, 0, 0, 0, 0],\n",
       " [-16, 0, 9, 27, 28, -2],\n",
       " [0, 9, 0, -11, 29, 30],\n",
       " [0, 27, -11, 0, 21, 31],\n",
       " [0, 28, 29, 21, 0, -17],\n",
       " [0, -2, 30, 31, -17, 0]]"
      ]
     },
     "execution_count": 18,
     "metadata": {},
     "output_type": "execute_result"
    }
   ],
   "source": [
    "g = grafoMensaje(mensaje_secreto, carac)\n",
    "M = g.matrix\n",
    "M"
   ]
  },
  {
   "cell_type": "markdown",
   "metadata": {},
   "source": [
    "Ahora debemos encontrar el árbol generador minimal. Para ello haremos uso del *Algoritmo de Prim*, definido dentro de la clase **grafo**."
   ]
  },
  {
   "cell_type": "markdown",
   "metadata": {},
   "source": [
    "La matriz de adyacencia del Árbol Generador Minimal es:"
   ]
  },
  {
   "cell_type": "code",
   "execution_count": 19,
   "metadata": {},
   "outputs": [
    {
     "data": {
      "text/plain": [
       "[[0, -16, 0, 0, 0, 0],\n",
       " [-16, 0, 9, 0, 0, -2],\n",
       " [0, 9, 0, -11, 0, 0],\n",
       " [0, 0, -11, 0, 0, 0],\n",
       " [0, 0, 0, 0, 0, -17],\n",
       " [0, -2, 0, 0, -17, 0]]"
      ]
     },
     "execution_count": 19,
     "metadata": {},
     "output_type": "execute_result"
    }
   ],
   "source": [
    "T = g.primMST()\n",
    "T"
   ]
  },
  {
   "cell_type": "markdown",
   "metadata": {},
   "source": [
    "Ahora vamos a sustituir los ceros de la diagonal principal por el orden de los caracteres."
   ]
  },
  {
   "cell_type": "code",
   "execution_count": 20,
   "metadata": {},
   "outputs": [
    {
     "data": {
      "text/plain": [
       "[[0, -16, 0, 0, 0, 0],\n",
       " [-16, 1, 9, 0, 0, -2],\n",
       " [0, 9, 2, -11, 0, 0],\n",
       " [0, 0, -11, 3, 0, 0],\n",
       " [0, 0, 0, 0, 4, -17],\n",
       " [0, -2, 0, 0, -17, 5]]"
      ]
     },
     "execution_count": 20,
     "metadata": {},
     "output_type": "execute_result"
    }
   ],
   "source": [
    "sustituirDiag(T)\n",
    "T"
   ]
  },
  {
   "cell_type": "markdown",
   "metadata": {},
   "source": [
    "Multiplicamos la matriz de adyacencia del grafo, M, y la del árbol generador minimal, T, para obtener la matriz P."
   ]
  },
  {
   "cell_type": "code",
   "execution_count": 21,
   "metadata": {},
   "outputs": [
    {
     "data": {
      "text/plain": [
       "[[256, -16, -144, 0, 0, 32],\n",
       " [0, 341, -279, -18, 146, -486],\n",
       " [-144, -51, 202, -33, -394, -361],\n",
       " [-432, -134, 221, 121, -443, -256],\n",
       " [-448, 323, 79, -256, 289, -141],\n",
       " [32, 268, -299, -237, -68, 293]]"
      ]
     },
     "execution_count": 21,
     "metadata": {},
     "output_type": "execute_result"
    }
   ],
   "source": [
    "P = np.dot(M,T).tolist()\n",
    "P"
   ]
  },
  {
   "cell_type": "markdown",
   "metadata": {},
   "source": [
    "Ahora usamos la clave K para cifrar P"
   ]
  },
  {
   "cell_type": "code",
   "execution_count": 22,
   "metadata": {},
   "outputs": [
    {
     "data": {
      "text/plain": [
       "[[256, 240, 112, 256, 256, 128],\n",
       " [0, 341, -279, -18, 146, -296],\n",
       " [-144, -195, 58, -177, -538, -781],\n",
       " [-432, -566, -211, -311, -875, -923],\n",
       " [-448, -125, -369, -704, -159, -154],\n",
       " [32, 300, -267, -205, -36, -11]]"
      ]
     },
     "execution_count": 22,
     "metadata": {},
     "output_type": "execute_result"
    }
   ],
   "source": [
    "C = np.dot(P,K).tolist()\n",
    "C"
   ]
  },
  {
   "cell_type": "markdown",
   "metadata": {},
   "source": [
    "Lo que Alicia debe enviar a Bruno es C+M en una misma línea"
   ]
  },
  {
   "cell_type": "code",
   "execution_count": 23,
   "metadata": {},
   "outputs": [],
   "source": [
    "lista1 = matrizLineal(C)\n",
    "lista2 = matrizLineal(M)\n",
    "mensaje_cifrado = lista1 + lista2"
   ]
  },
  {
   "cell_type": "markdown",
   "metadata": {},
   "source": [
    "Ahora Bruno recibe el mensaje cifrado. Lo divide en dos listas y lo transforma en dos matrices, *C_desc* y *M_desc* respectivamente. "
   ]
  },
  {
   "cell_type": "code",
   "execution_count": 24,
   "metadata": {},
   "outputs": [],
   "source": [
    "lista1_desc = mensaje_cifrado[0:int(len(mensaje_cifrado)/2)]\n",
    "lista2_desc = mensaje_cifrado[int(len(mensaje_cifrado)/2):len(mensaje_cifrado)]"
   ]
  },
  {
   "cell_type": "code",
   "execution_count": 25,
   "metadata": {},
   "outputs": [],
   "source": [
    "C_desc = linealMatriz(lista1_desc)\n",
    "M_desc = linealMatriz(lista2_desc)\n"
   ]
  },
  {
   "cell_type": "markdown",
   "metadata": {},
   "source": [
    "Comprobamos que coinciden con las matrices *C* y *M*"
   ]
  },
  {
   "cell_type": "code",
   "execution_count": 26,
   "metadata": {},
   "outputs": [
    {
     "data": {
      "text/plain": [
       "True"
      ]
     },
     "execution_count": 26,
     "metadata": {},
     "output_type": "execute_result"
    }
   ],
   "source": [
    "C_desc == C and M_desc == M"
   ]
  },
  {
   "cell_type": "markdown",
   "metadata": {},
   "source": [
    "A partir de la matriz C descifrada y la inversa de la clave K puede obtener la matriz P."
   ]
  },
  {
   "cell_type": "code",
   "execution_count": 27,
   "metadata": {},
   "outputs": [],
   "source": [
    "# Calculamos la inversa de K\n",
    "K_i = np.linalg.inv(K).tolist()"
   ]
  },
  {
   "cell_type": "code",
   "execution_count": 28,
   "metadata": {},
   "outputs": [
    {
     "data": {
      "text/plain": [
       "[[256.0, -16.0, -144.0, 0.0, 0.0, 32.0],\n",
       " [0.0, 341.0, -279.0, -18.0, 146.0, -486.0],\n",
       " [-144.0, -51.0, 202.0, -33.0, -394.0, -361.0],\n",
       " [-432.0, -134.0, 221.0, 121.0, -443.0, -256.0],\n",
       " [-448.0, 323.0, 79.0, -256.0, 289.0, -141.0],\n",
       " [32.0, 268.0, -299.0, -237.0, -68.0, 293.0]]"
      ]
     },
     "execution_count": 28,
     "metadata": {},
     "output_type": "execute_result"
    }
   ],
   "source": [
    "# Multiplicamos la inversa de K por la matriz cifrada\n",
    "P_desc = np.dot(C_desc,K_i).tolist()\n",
    "P_desc"
   ]
  },
  {
   "cell_type": "markdown",
   "metadata": {},
   "source": [
    "Comprobamos que efectivamente hemos descifrado bien la matriz P"
   ]
  },
  {
   "cell_type": "code",
   "execution_count": 29,
   "metadata": {},
   "outputs": [
    {
     "data": {
      "text/plain": [
       "True"
      ]
     },
     "execution_count": 29,
     "metadata": {},
     "output_type": "execute_result"
    }
   ],
   "source": [
    "P_desc == P"
   ]
  },
  {
   "cell_type": "markdown",
   "metadata": {},
   "source": [
    "Bruno calcula la matriz T a partir de la inversa de M\n"
   ]
  },
  {
   "cell_type": "code",
   "execution_count": 30,
   "metadata": {},
   "outputs": [],
   "source": [
    "# Calculamos la inversa de M\n",
    "M_i = np.linalg.inv(M_desc).tolist()"
   ]
  },
  {
   "cell_type": "code",
   "execution_count": 31,
   "metadata": {},
   "outputs": [
    {
     "data": {
      "text/plain": [
       "[[-0.0, -16.0, 0.0, -0.0, 0.0, 0.0],\n",
       " [-16.0, 1.0, 9.0, 0.0, -0.0, -2.0],\n",
       " [0.0, 9.0, 2.0, -11.0, 0.0, 0.0],\n",
       " [0.0, 0.0, -11.0, 3.0, -0.0, 0.0],\n",
       " [-0.0, 0.0, 0.0, -0.0, 4.0, -17.0],\n",
       " [0.0, -2.0, 0.0, 0.0, -17.0, 5.0]]"
      ]
     },
     "execution_count": 31,
     "metadata": {},
     "output_type": "execute_result"
    }
   ],
   "source": [
    "# Multiplicamos la inversa de M por la matriz cifrada y \n",
    "# redondeamos por los decimales de calcular la inversa\n",
    "T_desc = np.round(np.dot(M_i,P_desc)).tolist()\n",
    "T_desc"
   ]
  },
  {
   "cell_type": "markdown",
   "metadata": {},
   "source": [
    "Comprobamos que coincide con la matriz de adyacencia de árbol T."
   ]
  },
  {
   "cell_type": "code",
   "execution_count": 32,
   "metadata": {
    "scrolled": false
   },
   "outputs": [
    {
     "data": {
      "text/plain": [
       "True"
      ]
     },
     "execution_count": 32,
     "metadata": {},
     "output_type": "execute_result"
    }
   ],
   "source": [
    "T_desc == T"
   ]
  },
  {
   "cell_type": "markdown",
   "metadata": {},
   "source": [
    "Representando el árbol generador minimal T, y usando la tabla de codificación Bruno obtiene el mensaje descifrado."
   ]
  },
  {
   "cell_type": "code",
   "execution_count": 33,
   "metadata": {},
   "outputs": [
    {
     "data": {
      "text/plain": [
       "['C', 'L', 'A', 'V', 'E']"
      ]
     },
     "execution_count": 33,
     "metadata": {},
     "output_type": "execute_result"
    }
   ],
   "source": [
    "mensaje_desc = descifrarMatriz(T,carac)\n",
    "mensaje_desc"
   ]
  },
  {
   "cell_type": "markdown",
   "metadata": {},
   "source": [
    "A continuación, vamos a usar los algoritmos de cifrado y descifrado implementados."
   ]
  },
  {
   "cell_type": "code",
   "execution_count": 34,
   "metadata": {},
   "outputs": [
    {
     "name": "stdout",
     "output_type": "stream",
     "text": [
      "[256, 240, 112, 256, 256, 128, 0, 341, -279, -18, 146, -296, -144, -195, 58, -177, -538, -781, -432, -566, -211, -311, -875, -923, -448, -125, -369, -704, -159, -154, 32, 300, -267, -205, -36, -11, 0, -16, 0, 0, 0, 0, -16, 0, 9, 27, 28, -2, 0, 9, 0, -11, 29, 30, 0, 27, -11, 0, 21, 31, 0, 28, 29, 21, 0, -17, 0, -2, 30, 31, -17, 0]\n"
     ]
    }
   ],
   "source": [
    "print(cifrar(mensaje_secreto,carac,K))"
   ]
  },
  {
   "cell_type": "code",
   "execution_count": 35,
   "metadata": {},
   "outputs": [
    {
     "name": "stdout",
     "output_type": "stream",
     "text": [
      "['C', 'L', 'A', 'V', 'E']\n"
     ]
    }
   ],
   "source": [
    "print(descifrar(mensaje_cifrado,carac,K))"
   ]
  },
  {
   "cell_type": "markdown",
   "metadata": {},
   "source": [
    "### Otro ejemplo"
   ]
  },
  {
   "cell_type": "markdown",
   "metadata": {},
   "source": [
    "En este caso, partimos de la clave compartida $K$:"
   ]
  },
  {
   "cell_type": "code",
   "execution_count": 36,
   "metadata": {
    "scrolled": false
   },
   "outputs": [
    {
     "data": {
      "text/plain": [
       "[[1, 1, 1, 1, 1, 1, 1, 1],\n",
       " [0, 1, 1, 1, 1, 1, 1, 1],\n",
       " [0, 0, 1, 1, 1, 1, 1, 1],\n",
       " [0, 0, 0, 1, 1, 1, 1, 1],\n",
       " [0, 0, 0, 0, 1, 1, 1, 1],\n",
       " [0, 0, 0, 0, 0, 1, 1, 1],\n",
       " [0, 0, 0, 0, 0, 0, 1, 1],\n",
       " [0, 0, 0, 0, 0, 0, 0, 1]]"
      ]
     },
     "execution_count": 36,
     "metadata": {},
     "output_type": "execute_result"
    }
   ],
   "source": [
    "K = [[1, 1, 1, 1, 1, 1, 1, 1],\n",
    "     [0, 1, 1, 1, 1, 1, 1, 1],\n",
    "     [0, 0, 1, 1, 1, 1, 1, 1],\n",
    "     [0, 0, 0, 1, 1, 1, 1, 1],\n",
    "     [0, 0, 0, 0, 1, 1, 1, 1],     \n",
    "     [0, 0, 0, 0, 0, 1, 1, 1],\n",
    "     [0, 0, 0, 0, 0, 0, 1, 1],\n",
    "     [0, 0, 0, 0, 0, 0, 0, 1]]\n",
    "K"
   ]
  },
  {
   "cell_type": "markdown",
   "metadata": {},
   "source": [
    "El mensaje que Alicia quiere enviarle a Bruno es el siguiente: *CARLOTA*"
   ]
  },
  {
   "cell_type": "code",
   "execution_count": 37,
   "metadata": {},
   "outputs": [],
   "source": [
    "mensaje_secreto = 'CARLOTA'"
   ]
  },
  {
   "cell_type": "markdown",
   "metadata": {},
   "source": [
    "Primero se ha de seleccionar un carácter especial para señalar por donde empieza el mensaje. Tomemos el carácter $Y$."
   ]
  },
  {
   "cell_type": "code",
   "execution_count": 38,
   "metadata": {},
   "outputs": [],
   "source": [
    "carac = 'Y'"
   ]
  },
  {
   "cell_type": "markdown",
   "metadata": {},
   "source": [
    "Después, Alicia convertirá el mensaje a cifrar en vértices de un grafo, en este caso formado por las SIETE letras del mensaje *CARLOTA*. Por cada par de caracteres secuenciales en el mensaje, se añadirá una arista entre ambos vértices. Además, será necesario unir el primer y último vértices para formar un ciclo. "
   ]
  },
  {
   "cell_type": "markdown",
   "metadata": {},
   "source": [
    "A la hora de asignar un peso a cada arista, Alicia usará una tabla de codificación. En este ejemplo se hará uso de la del diccionario *codificacion* definido previamente. El peso de cada arista corresponde con la distancia entre los caracteres que representan los vértices en la tabla de codificación. Por ejemplo, el peso de la arista que une los vértices $C$ y $A$ se corresponde con la distancia entre los valores $C$ y $A$ en la tabla de codificación."
   ]
  },
  {
   "cell_type": "code",
   "execution_count": 39,
   "metadata": {},
   "outputs": [
    {
     "data": {
      "text/plain": [
       "-2"
      ]
     },
     "execution_count": 39,
     "metadata": {},
     "output_type": "execute_result"
    }
   ],
   "source": [
    "codificarLetras('A','C')"
   ]
  },
  {
   "cell_type": "markdown",
   "metadata": {},
   "source": [
    "Alicia debe seguiar añadiendo aristas hasta obtener un grafo completo. A dichas aristas les asignará su peso correspondiente, que se trata de un valor secuencial a partir del máximo peso de la tabla de codificación. De esta forma, se obtiene un grafo completo de orden 7."
   ]
  },
  {
   "cell_type": "markdown",
   "metadata": {},
   "source": [
    "Se aplica el algoritmo **grafoMesaje** que engloba los pasos comentados anteriomenete. De él, obtenemos dicho grafo con su respectiva matriz de adyacencia $M$, definida de la forma:\n"
   ]
  },
  {
   "cell_type": "code",
   "execution_count": 40,
   "metadata": {},
   "outputs": [
    {
     "data": {
      "text/plain": [
       "[[0, -22, 0, 0, 0, 0, 0, 0],\n",
       " [-22, 0, -2, 27, 28, 29, 30, 2],\n",
       " [0, -2, 0, 17, 31, 32, 33, 34],\n",
       " [0, 27, 17, 0, -6, 35, 36, 37],\n",
       " [0, 28, 31, -6, 0, 3, 38, 39],\n",
       " [0, 29, 32, 35, 3, 0, 5, 40],\n",
       " [0, 30, 33, 36, 38, 5, 0, -19],\n",
       " [0, 2, 34, 37, 39, 40, -19, 0]]"
      ]
     },
     "execution_count": 40,
     "metadata": {},
     "output_type": "execute_result"
    }
   ],
   "source": [
    "g = grafoMensaje(mensaje_secreto, carac)\n",
    "M = g.matrix\n",
    "M"
   ]
  },
  {
   "cell_type": "markdown",
   "metadata": {},
   "source": [
    "Ahora debemos encontrar el árbol generador minimal. Para ello haremos uso del *Algoritmo de Prim*, implementado como método de la clase **grafo**."
   ]
  },
  {
   "cell_type": "markdown",
   "metadata": {},
   "source": [
    "La matriz de adyacencia del Árbol Generador Minimal es:"
   ]
  },
  {
   "cell_type": "code",
   "execution_count": 41,
   "metadata": {},
   "outputs": [
    {
     "data": {
      "text/plain": [
       "[[0, -22, 0, 0, 0, 0, 0, 0],\n",
       " [-22, 0, -2, 0, 0, 0, 0, 2],\n",
       " [0, -2, 0, 0, 0, 0, 0, 0],\n",
       " [0, 0, 0, 0, -6, 0, 0, 0],\n",
       " [0, 0, 0, -6, 0, 3, 0, 0],\n",
       " [0, 0, 0, 0, 3, 0, 5, 0],\n",
       " [0, 0, 0, 0, 0, 5, 0, -19],\n",
       " [0, 2, 0, 0, 0, 0, -19, 0]]"
      ]
     },
     "execution_count": 41,
     "metadata": {},
     "output_type": "execute_result"
    }
   ],
   "source": [
    "T = g.primMST()\n",
    "T"
   ]
  },
  {
   "cell_type": "markdown",
   "metadata": {},
   "source": [
    "Se sustituyen los ceros de la diagonal principal por el orden de los caracteres."
   ]
  },
  {
   "cell_type": "code",
   "execution_count": 42,
   "metadata": {},
   "outputs": [
    {
     "data": {
      "text/plain": [
       "[[0, -22, 0, 0, 0, 0, 0, 0],\n",
       " [-22, 1, -2, 0, 0, 0, 0, 2],\n",
       " [0, -2, 2, 0, 0, 0, 0, 0],\n",
       " [0, 0, 0, 3, -6, 0, 0, 0],\n",
       " [0, 0, 0, -6, 4, 3, 0, 0],\n",
       " [0, 0, 0, 0, 3, 5, 5, 0],\n",
       " [0, 0, 0, 0, 0, 5, 6, -19],\n",
       " [0, 2, 0, 0, 0, 0, -19, 7]]"
      ]
     },
     "execution_count": 42,
     "metadata": {},
     "output_type": "execute_result"
    }
   ],
   "source": [
    "sustituirDiag(T)\n",
    "T"
   ]
  },
  {
   "cell_type": "markdown",
   "metadata": {},
   "source": [
    "Multiplicamos la matriz de adyacencia del grafo, M, y la del árbol generador minimal, T, para obtener la matriz P."
   ]
  },
  {
   "cell_type": "code",
   "execution_count": 43,
   "metadata": {},
   "outputs": [
    {
     "data": {
      "text/plain": [
       "[[484, -22, 44, 0, 0, 0, 0, -44],\n",
       " [0, 492, -4, -87, 37, 379, 287, -556],\n",
       " [44, 66, 4, -135, 118, 418, -288, -393],\n",
       " [-594, 67, -20, 36, 81, 337, -312, -371],\n",
       " [-616, 44, 6, -18, 45, 205, -498, -393],\n",
       " [-638, 45, 6, 87, -198, 34, -730, 243],\n",
       " [-660, -74, 6, -120, -49, 139, 386, -73],\n",
       " [-44, -66, 64, -123, 54, 222, 86, 365]]"
      ]
     },
     "execution_count": 43,
     "metadata": {},
     "output_type": "execute_result"
    }
   ],
   "source": [
    "P = np.dot(M,T).tolist()\n",
    "P"
   ]
  },
  {
   "cell_type": "markdown",
   "metadata": {},
   "source": [
    "Ahora usamos la clave K para cifrar P"
   ]
  },
  {
   "cell_type": "code",
   "execution_count": 44,
   "metadata": {},
   "outputs": [
    {
     "data": {
      "text/plain": [
       "[[484, 462, 506, 506, 506, 506, 506, 462],\n",
       " [0, 492, 488, 401, 438, 817, 1104, 548],\n",
       " [44, 110, 114, -21, 97, 515, 227, -166],\n",
       " [-594, -527, -547, -511, -430, -93, -405, -776],\n",
       " [-616, -572, -566, -584, -539, -334, -832, -1225],\n",
       " [-638, -593, -587, -500, -698, -664, -1394, -1151],\n",
       " [-660, -734, -728, -848, -897, -758, -372, -445],\n",
       " [-44, -110, -46, -169, -115, 107, 193, 558]]"
      ]
     },
     "execution_count": 44,
     "metadata": {},
     "output_type": "execute_result"
    }
   ],
   "source": [
    "C = np.dot(P,K).tolist()\n",
    "C"
   ]
  },
  {
   "cell_type": "markdown",
   "metadata": {},
   "source": [
    "Alicia debe enviar C+M en una misma línea"
   ]
  },
  {
   "cell_type": "code",
   "execution_count": 45,
   "metadata": {},
   "outputs": [],
   "source": [
    "lista1 = matrizLineal(C)\n",
    "lista2 = matrizLineal(M)\n",
    "mensaje_cifrado = lista1 + lista2"
   ]
  },
  {
   "cell_type": "markdown",
   "metadata": {},
   "source": [
    "Ahora Bruno recibe el mensaje cifrado. Lo divide en dos listas y lo transforma en dos matrices, *C_desc* y *M_desc*. "
   ]
  },
  {
   "cell_type": "code",
   "execution_count": 46,
   "metadata": {},
   "outputs": [],
   "source": [
    "lista1_desc = mensaje_cifrado[0:int(len(mensaje_cifrado)/2)]\n",
    "lista2_desc = mensaje_cifrado[int(len(mensaje_cifrado)/2):len(mensaje_cifrado)]"
   ]
  },
  {
   "cell_type": "code",
   "execution_count": 47,
   "metadata": {},
   "outputs": [],
   "source": [
    "C_desc = linealMatriz(lista1_desc)\n",
    "M_desc = linealMatriz(lista2_desc)\n"
   ]
  },
  {
   "cell_type": "markdown",
   "metadata": {},
   "source": [
    "Comprobamos que coinciden con las matrices *C* y *M*"
   ]
  },
  {
   "cell_type": "code",
   "execution_count": 48,
   "metadata": {},
   "outputs": [
    {
     "data": {
      "text/plain": [
       "True"
      ]
     },
     "execution_count": 48,
     "metadata": {},
     "output_type": "execute_result"
    }
   ],
   "source": [
    "C_desc == C and M_desc == M"
   ]
  },
  {
   "cell_type": "markdown",
   "metadata": {},
   "source": [
    "A partir de la matriz C descifrada y la inversa de la clave K puede obtener la matriz P."
   ]
  },
  {
   "cell_type": "code",
   "execution_count": 49,
   "metadata": {},
   "outputs": [],
   "source": [
    "# Calculamos la inversa de K\n",
    "K_i = np.linalg.inv(K).tolist()"
   ]
  },
  {
   "cell_type": "code",
   "execution_count": 50,
   "metadata": {},
   "outputs": [
    {
     "data": {
      "text/plain": [
       "[[484.0, -22.0, 44.0, 0.0, 0.0, 0.0, 0.0, -44.0],\n",
       " [0.0, 492.0, -4.0, -87.0, 37.0, 379.0, 287.0, -556.0],\n",
       " [44.0, 66.0, 4.0, -135.0, 118.0, 418.0, -288.0, -393.0],\n",
       " [-594.0, 67.0, -20.0, 36.0, 81.0, 337.0, -312.0, -371.0],\n",
       " [-616.0, 44.0, 6.0, -18.0, 45.0, 205.0, -498.0, -393.0],\n",
       " [-638.0, 45.0, 6.0, 87.0, -198.0, 34.0, -730.0, 243.0],\n",
       " [-660.0, -74.0, 6.0, -120.0, -49.0, 139.0, 386.0, -73.0],\n",
       " [-44.0, -66.0, 64.0, -123.0, 54.0, 222.0, 86.0, 365.0]]"
      ]
     },
     "execution_count": 50,
     "metadata": {},
     "output_type": "execute_result"
    }
   ],
   "source": [
    "# Multiplicamos la inversa de K por la matriz cifrada\n",
    "P_desc = np.dot(C_desc,K_i).tolist()\n",
    "P_desc"
   ]
  },
  {
   "cell_type": "markdown",
   "metadata": {},
   "source": [
    "Verificamos que hemos descifrado bien la matriz P"
   ]
  },
  {
   "cell_type": "code",
   "execution_count": 51,
   "metadata": {},
   "outputs": [
    {
     "data": {
      "text/plain": [
       "True"
      ]
     },
     "execution_count": 51,
     "metadata": {},
     "output_type": "execute_result"
    }
   ],
   "source": [
    "P_desc == P"
   ]
  },
  {
   "cell_type": "markdown",
   "metadata": {},
   "source": [
    "Bruno calcula la matriz T a partir de la inversa de M\n"
   ]
  },
  {
   "cell_type": "code",
   "execution_count": 52,
   "metadata": {},
   "outputs": [],
   "source": [
    "# Calculamos la inversa de M\n",
    "M_i = np.linalg.inv(M_desc).tolist()\n"
   ]
  },
  {
   "cell_type": "code",
   "execution_count": 53,
   "metadata": {},
   "outputs": [
    {
     "data": {
      "text/plain": [
       "[[0.0, -22.0, 0.0, -0.0, 0.0, 0.0, -0.0, 0.0],\n",
       " [-22.0, 1.0, -2.0, 0.0, -0.0, 0.0, -0.0, 2.0],\n",
       " [0.0, -2.0, 2.0, -0.0, 0.0, -0.0, 0.0, 0.0],\n",
       " [0.0, 0.0, 0.0, 3.0, -6.0, 0.0, -0.0, -0.0],\n",
       " [-0.0, 0.0, -0.0, -6.0, 4.0, 3.0, 0.0, 0.0],\n",
       " [-0.0, 0.0, 0.0, -0.0, 3.0, 5.0, 5.0, -0.0],\n",
       " [0.0, 0.0, 0.0, -0.0, 0.0, 5.0, 6.0, -19.0],\n",
       " [-0.0, 2.0, -0.0, 0.0, 0.0, -0.0, -19.0, 7.0]]"
      ]
     },
     "execution_count": 53,
     "metadata": {},
     "output_type": "execute_result"
    }
   ],
   "source": [
    "# Multiplicamos la inversa de M por la matriz cifrada y \n",
    "# redondeamos por los decimales de calcular la inversa\n",
    "T_desc = np.round(np.dot(M_i,P_desc)).tolist()\n",
    "T_desc"
   ]
  },
  {
   "cell_type": "markdown",
   "metadata": {},
   "source": [
    "Comprobamos que coincide con la matriz de adyacencia de árbol T."
   ]
  },
  {
   "cell_type": "code",
   "execution_count": 54,
   "metadata": {
    "scrolled": false
   },
   "outputs": [
    {
     "data": {
      "text/plain": [
       "True"
      ]
     },
     "execution_count": 54,
     "metadata": {},
     "output_type": "execute_result"
    }
   ],
   "source": [
    "T_desc == T"
   ]
  },
  {
   "cell_type": "markdown",
   "metadata": {},
   "source": [
    "Representando el árbol generador minimal T, y haciendo uso de la tabla de codificación Bruno obtiene el mensaje descifrado."
   ]
  },
  {
   "cell_type": "code",
   "execution_count": 55,
   "metadata": {},
   "outputs": [
    {
     "data": {
      "text/plain": [
       "['C', 'A', 'R', 'L', 'O', 'T', 'A']"
      ]
     },
     "execution_count": 55,
     "metadata": {},
     "output_type": "execute_result"
    }
   ],
   "source": [
    "mensaje_desc = descifrarMatriz(T,carac)\n",
    "mensaje_desc"
   ]
  },
  {
   "cell_type": "markdown",
   "metadata": {},
   "source": [
    "A continuación, usaremos los algoritmos de cifrado y descifrado implementados."
   ]
  },
  {
   "cell_type": "code",
   "execution_count": 56,
   "metadata": {},
   "outputs": [
    {
     "name": "stdout",
     "output_type": "stream",
     "text": [
      "[484, 462, 506, 506, 506, 506, 506, 462, 0, 492, 488, 401, 438, 817, 1104, 548, 44, 110, 114, -21, 97, 515, 227, -166, -594, -527, -547, -511, -430, -93, -405, -776, -616, -572, -566, -584, -539, -334, -832, -1225, -638, -593, -587, -500, -698, -664, -1394, -1151, -660, -734, -728, -848, -897, -758, -372, -445, -44, -110, -46, -169, -115, 107, 193, 558, 0, -22, 0, 0, 0, 0, 0, 0, -22, 0, -2, 27, 28, 29, 30, 2, 0, -2, 0, 17, 31, 32, 33, 34, 0, 27, 17, 0, -6, 35, 36, 37, 0, 28, 31, -6, 0, 3, 38, 39, 0, 29, 32, 35, 3, 0, 5, 40, 0, 30, 33, 36, 38, 5, 0, -19, 0, 2, 34, 37, 39, 40, -19, 0]\n"
     ]
    }
   ],
   "source": [
    "print(cifrar(mensaje_secreto,carac,K))"
   ]
  },
  {
   "cell_type": "code",
   "execution_count": 57,
   "metadata": {},
   "outputs": [
    {
     "name": "stdout",
     "output_type": "stream",
     "text": [
      "['C', 'A', 'R', 'L', 'O', 'T', 'A']\n"
     ]
    }
   ],
   "source": [
    "print(descifrar(mensaje_cifrado,carac,K))"
   ]
  },
  {
   "cell_type": "markdown",
   "metadata": {},
   "source": [
    "## Resultados experimentales"
   ]
  },
  {
   "cell_type": "markdown",
   "metadata": {},
   "source": [
    "A continuación, se probará el algoritmo implementado mediante una serie de ejecuciones para calcular los tiempos medios en milisegundos."
   ]
  },
  {
   "cell_type": "code",
   "execution_count": 58,
   "metadata": {},
   "outputs": [],
   "source": [
    "import string\n",
    "import random\n",
    "import time"
   ]
  },
  {
   "cell_type": "code",
   "execution_count": 59,
   "metadata": {},
   "outputs": [],
   "source": [
    "# Función para generar una clave compartida de tamaño n por n\n",
    "# Dicha clave será una matriz triangular superior con sus\n",
    "# elementos no nulos igual 1\n",
    "def generarK(n):\n",
    "    \n",
    "    K = [[0 for column in range(n)] for row in range(n)]\n",
    "    \n",
    "    # Rellenamos la matriz\n",
    "    for i in range(n):\n",
    "        for j in range(i,n):\n",
    "            K[i][j] = 1\n",
    "    \n",
    "    return K"
   ]
  },
  {
   "cell_type": "code",
   "execution_count": 60,
   "metadata": {},
   "outputs": [],
   "source": [
    "# Función para generar un mensaje aleatorio de longitud n\n",
    "def generarMensaje(n):\n",
    "    return  ''.join(random.choice(string.ascii_uppercase) for _ in range(n))"
   ]
  },
  {
   "cell_type": "code",
   "execution_count": 61,
   "metadata": {},
   "outputs": [
    {
     "name": "stdout",
     "output_type": "stream",
     "text": [
      "Valor: \tTiempo cifrado: \tTiempo descifrado: \n",
      "3 \t 0.07379849751790364 \t 0.11410713195800781\n",
      "4 \t 0.15420913696289062 \t 0.21843910217285156\n",
      "5 \t 0.24645328521728516 \t 0.3299872080485026\n",
      "6 \t 0.3549496332804362 \t 0.45503775278727215\n",
      "7 \t 0.49487749735514325 \t 0.619037946065267\n",
      "8 \t 0.6488958994547526 \t 0.8055607477823893\n",
      "9 \t 0.8726040522257487 \t 1.1043787002563477\n",
      "10 \t 1.0981003443400066 \t 1.400478680928548\n",
      "11 \t 1.3430356979370117 \t 1.72728697458903\n",
      "12 \t 1.6113042831420898 \t 2.103551228841146\n",
      "13 \t 1.9115765889485676 \t 2.442185084025065\n",
      "14 \t 2.245990435282389 \t 2.825156847635905\n",
      "15 \t 2.662539482116699 \t 3.4805854161580405\n",
      "16 \t 3.0823310216267905 \t 3.9280176162719727\n",
      "17 \t 3.5201708475748696 \t 4.486783345540364\n",
      "18 \t 4.054419199625651 \t 5.45195738474528\n",
      "19 \t 4.643964767456055 \t 6.448173522949219\n",
      "20 \t 5.2583058675130205 \t 7.345390319824219\n",
      "21 \t 5.846293767293294 \t 8.048057556152344\n",
      "22 \t 6.475083033243815 \t 9.410786628723145\n",
      "23 \t 7.167506217956543 \t 10.381738344828287\n",
      "24 \t 8.02319049835205 \t 11.811359723409018\n",
      "25 \t 8.953706423441568 \t 13.651418685913086\n",
      "26 \t 9.982824325561523 \t 14.82697327931722\n",
      "27 \t 11.085192362467447 \t 17.38135019938151\n",
      "28 \t 12.22547690073649 \t 19.985143343607586\n",
      "29 \t 13.25829029083252 \t 21.74670696258545\n",
      "30 \t 14.353442192077637 \t 24.53312079111735\n",
      "31 \t 15.505528450012207 \t 26.51967207590739\n",
      "32 \t 17.014519373575848 \t 29.255032539367676\n",
      "33 \t 18.600956598917644 \t 31.504329045613606\n",
      "34 \t 20.59778372446696 \t 34.96581713358561\n",
      "35 \t 22.481973965962727 \t 37.49612967173258\n",
      "36 \t 24.096107482910156 \t 39.66930707295736\n",
      "37 \t 25.700839360555012 \t 43.041531244913735\n",
      "38 \t 27.371883392333984 \t 47.80110518137614\n",
      "39 \t 29.135751724243164 \t 51.089795430501304\n",
      "40 \t 30.974825223286945 \t 56.850012143452965\n",
      "41 \t 32.91760285695394 \t 59.16018486022949\n",
      "42 \t 34.93309815724691 \t 63.38829199473063\n",
      "43 \t 37.02615896860758 \t 70.72420120239258\n",
      "44 \t 39.24645582834879 \t 75.53340593973796\n",
      "45 \t 41.5264368057251 \t 79.9407958984375\n",
      "46 \t 44.23490365346273 \t 83.00714492797852\n",
      "47 \t 46.73905372619629 \t 89.53627745310466\n",
      "48 \t 49.37273661295573 \t 99.18375809987386\n",
      "49 \t 52.04764207204183 \t 103.00339063008626\n",
      "50 \t 54.96145089467367 \t 111.98099454243977\n",
      "51 \t 57.86065260569254 \t 123.59753449757893\n",
      "52 \t 60.85456212361654 \t 126.55739784240723\n",
      "53 \t 63.97881507873535 \t 133.44964981079102\n",
      "54 \t 67.22514629364014 \t 141.45716031392416\n",
      "55 \t 70.63258488972981 \t 146.93069458007812\n",
      "56 \t 74.10056591033936 \t 155.18922011057535\n",
      "57 \t 77.84623305002849 \t 169.4655418395996\n"
     ]
    }
   ],
   "source": [
    "# Número de mensajes distintos a cifrar\n",
    "n = 55\n",
    "# Número de iteraciones por cada mensaje\n",
    "it = 30\n",
    "\n",
    "# Tiempos del algoritmo de cifrado y descifrado\n",
    "tiempos_cifrar = [None] * n\n",
    "tiempos_descifrar = [None] * n\n",
    "\n",
    "# Suma parcial de los tiempos de cifrado y descifrado\n",
    "suma_cifrar = 0\n",
    "suma_descifrar = 0\n",
    "\n",
    "# Generamos mensajes de tamaño i a partir de 3 hasta n+3\n",
    "for i in range(3,n+3):\n",
    "    # Generamos el mensaje y la clave compartida\n",
    "    mensaje = generarMensaje(i)\n",
    "    K = generarK(i+1)\n",
    "    \n",
    "    # Contabilizamos el tiempo empleado para cifrar\n",
    "    inicio = time.time()\n",
    "    mensaje_cifrado = cifrar(mensaje,carac,K)\n",
    "    fin = time.time()\n",
    "\n",
    "    # Si el mensaje se ha podido cifrar, es decir,\n",
    "    # si la matriz M es invertible\n",
    "    if mensaje_cifrado != None:  \n",
    "\n",
    "        # Realizamos it iteraciones\n",
    "        for j in range(it):\n",
    "\n",
    "            # Contabilizamos el tiempo empleado para cifrar\n",
    "            inicio = time.time()\n",
    "            codificar(mensaje,carac,K)\n",
    "            fin = time.time()\n",
    "\n",
    "            # Calculamos el tiempo empleado en cifrar\n",
    "            suma_cifrar = suma_cifrar + (fin-inicio)*1000\n",
    "\n",
    "            # Contabilizamos el tiempo empleado para descifrar\n",
    "            inicio = time.time()\n",
    "            descifrar(mensaje_cifrado,carac,K)\n",
    "            fin = time.time()\n",
    "\n",
    "            # Calculamos el tiempo empleado en cifrar            \n",
    "            suma_descifrar = suma_descifrar + (fin-inicio)*1000\n",
    "\n",
    "        tiempos_cifrar[i-3] = suma_cifrar / it\n",
    "        tiempos_descifrar[i-3] = suma_descifrar / it\n",
    "    \n",
    "    # Reestablecemos el valor de la suma\n",
    "    suma = 0\n",
    "    \n",
    "print(\"Valor: \\tTiempo cifrado: \\tTiempo descifrado: \")\n",
    "    \n",
    "for i in range(3,n+3):\n",
    "    print(i,\"\\t\",tiempos_cifrar[i-3],\"\\t\",tiempos_descifrar[i-3])"
   ]
  }
 ],
 "metadata": {
  "kernelspec": {
   "display_name": "Python 3",
   "language": "python",
   "name": "python3"
  },
  "language_info": {
   "codemirror_mode": {
    "name": "ipython",
    "version": 3
   },
   "file_extension": ".py",
   "mimetype": "text/x-python",
   "name": "python",
   "nbconvert_exporter": "python",
   "pygments_lexer": "ipython3",
   "version": "3.7.4"
  }
 },
 "nbformat": 4,
 "nbformat_minor": 4
}
